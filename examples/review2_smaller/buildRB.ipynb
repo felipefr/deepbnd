{
 "cells": [
  {
   "cell_type": "code",
   "execution_count": 5,
   "id": "e7e0996c-7aeb-4edc-8572-cf65488c1dcd",
   "metadata": {},
   "outputs": [
    {
     "data": {
      "text/plain": [
       "\"\\nInputs = paramRVEdataset.hd5, snapshots.hd5 (described before) \\nOutputs: \\n- Wbasis.hd5: Reduced-Basis matrices and singular values. Same comment for labels 'A' and 'S' (above) applies.  \\n- XY.hd5: Assemble important data of paramRVEdataset.hd5 (to be used as the input of NN training) and also the projected solutions of the snapshots (snapshots.hd5) onto the RB (Wbasis.hd5). Same comment for labels 'A' and 'S' (above) applies.\\n\\nObs: Wbasis.hd5 should be obtained to the larger dataset (usually the training one), then should be reused to obtain XY.hd5 files of the remaining datasets. \\n\\nThe typical order of execution is with op= 0, 1, 2, 3 (one after another). Op = 1 (RB basis obtention) can be skipped according to the situation. \\n\\n\""
      ]
     },
     "execution_count": 5,
     "metadata": {},
     "output_type": "execute_result"
    }
   ],
   "source": [
    "\"\"\"\n",
    "Inputs = paramRVEdataset.hd5, snapshots.hd5 (described before) \n",
    "Outputs: \n",
    "- Wbasis.hd5: Reduced-Basis matrices and singular values. Same comment for labels 'A' and 'S' (above) applies.  \n",
    "- XY.hd5: Assemble important data of paramRVEdataset.hd5 (to be used as the input of NN training) and also the projected solutions of the snapshots (snapshots.hd5) onto the RB (Wbasis.hd5). Same comment for labels 'A' and 'S' (above) applies.\n",
    "\n",
    "Obs: Wbasis.hd5 should be obtained to the larger dataset (usually the training one), then should be reused to obtain XY.hd5 files of the remaining datasets. \n",
    "\n",
    "The typical order of execution is with op= 0, 1, 2, 3 (one after another). Op = 1 (RB basis obtention) can be skipped according to the situation. \n",
    "\n",
    "\"\"\""
   ]
  },
  {
   "cell_type": "code",
   "execution_count": 7,
   "id": "b1224d55-ff51-4b42-9025-0ad477a7b54f",
   "metadata": {},
   "outputs": [
    {
     "ename": "ImportError",
     "evalue": "/home/felipefr/miniconda/envs/ddfenics_tutorial/lib/libpetsc.so.3.17: undefined symbol: hypre_ParCSRMatrixScale",
     "output_type": "error",
     "traceback": [
      "\u001b[0;31m---------------------------------------------------------------------------\u001b[0m",
      "\u001b[0;31mImportError\u001b[0m                               Traceback (most recent call last)",
      "\u001b[0;32m<ipython-input-7-d463cbf7db6a>\u001b[0m in \u001b[0;36m<module>\u001b[0;34m\u001b[0m\n\u001b[1;32m      6\u001b[0m \u001b[0;34m\u001b[0m\u001b[0m\n\u001b[1;32m      7\u001b[0m \u001b[0;32mfrom\u001b[0m \u001b[0mdeepBND\u001b[0m\u001b[0;34m.\u001b[0m\u001b[0m__init__\u001b[0m \u001b[0;32mimport\u001b[0m \u001b[0;34m*\u001b[0m\u001b[0;34m\u001b[0m\u001b[0;34m\u001b[0m\u001b[0m\n\u001b[0;32m----> 8\u001b[0;31m \u001b[0;32mimport\u001b[0m \u001b[0mdeepBND\u001b[0m\u001b[0;34m.\u001b[0m\u001b[0mcreation_model\u001b[0m\u001b[0;34m.\u001b[0m\u001b[0mRB\u001b[0m\u001b[0;34m.\u001b[0m\u001b[0mRB_utils\u001b[0m \u001b[0;32mas\u001b[0m \u001b[0mrbut\u001b[0m\u001b[0;34m\u001b[0m\u001b[0;34m\u001b[0m\u001b[0m\n\u001b[0m\u001b[1;32m      9\u001b[0m \u001b[0;32mimport\u001b[0m \u001b[0mdeepBND\u001b[0m\u001b[0;34m.\u001b[0m\u001b[0mcore\u001b[0m\u001b[0;34m.\u001b[0m\u001b[0mmultiscale\u001b[0m\u001b[0;34m.\u001b[0m\u001b[0mmisc\u001b[0m \u001b[0;32mas\u001b[0m \u001b[0mmtsm\u001b[0m\u001b[0;34m\u001b[0m\u001b[0;34m\u001b[0m\u001b[0m\n\u001b[1;32m     10\u001b[0m \u001b[0;34m\u001b[0m\u001b[0m\n",
      "\u001b[0;32m~/github/deepBND/creation_model/RB/RB_utils.py\u001b[0m in \u001b[0;36m<module>\u001b[0;34m\u001b[0m\n\u001b[1;32m      5\u001b[0m \u001b[0;32mfrom\u001b[0m \u001b[0mdolfin\u001b[0m \u001b[0;32mimport\u001b[0m \u001b[0;34m*\u001b[0m\u001b[0;34m\u001b[0m\u001b[0;34m\u001b[0m\u001b[0m\n\u001b[1;32m      6\u001b[0m \u001b[0;32mimport\u001b[0m \u001b[0mmatplotlib\u001b[0m\u001b[0;34m.\u001b[0m\u001b[0mpyplot\u001b[0m \u001b[0;32mas\u001b[0m \u001b[0mplt\u001b[0m\u001b[0;34m\u001b[0m\u001b[0;34m\u001b[0m\u001b[0m\n\u001b[0;32m----> 7\u001b[0;31m \u001b[0;32mfrom\u001b[0m \u001b[0mmultiphenics\u001b[0m \u001b[0;32mimport\u001b[0m \u001b[0;34m*\u001b[0m\u001b[0;34m\u001b[0m\u001b[0;34m\u001b[0m\u001b[0m\n\u001b[0m\u001b[1;32m      8\u001b[0m \u001b[0;32mfrom\u001b[0m \u001b[0mtimeit\u001b[0m \u001b[0;32mimport\u001b[0m \u001b[0mdefault_timer\u001b[0m \u001b[0;32mas\u001b[0m \u001b[0mtimer\u001b[0m\u001b[0;34m\u001b[0m\u001b[0;34m\u001b[0m\u001b[0m\n\u001b[1;32m      9\u001b[0m \u001b[0;34m\u001b[0m\u001b[0m\n",
      "\u001b[0;32m~/miniconda/envs/tf_fenics/lib/python3.8/site-packages/multiphenics-0.2.dev1-py3.8.egg/multiphenics/__init__.py\u001b[0m in \u001b[0;36m<module>\u001b[0;34m\u001b[0m\n\u001b[1;32m     17\u001b[0m \u001b[0;31m#\u001b[0m\u001b[0;34m\u001b[0m\u001b[0;34m\u001b[0m\u001b[0;34m\u001b[0m\u001b[0m\n\u001b[1;32m     18\u001b[0m \u001b[0;34m\u001b[0m\u001b[0m\n\u001b[0;32m---> 19\u001b[0;31m \u001b[0;32mfrom\u001b[0m \u001b[0mmultiphenics\u001b[0m\u001b[0;34m.\u001b[0m\u001b[0mfem\u001b[0m \u001b[0;32mimport\u001b[0m \u001b[0mblock_adjoint\u001b[0m\u001b[0;34m,\u001b[0m \u001b[0mblock_assemble\u001b[0m\u001b[0;34m,\u001b[0m \u001b[0mblock_derivative\u001b[0m\u001b[0;34m,\u001b[0m \u001b[0mBlockDirichletBC\u001b[0m\u001b[0;34m,\u001b[0m \u001b[0mBlockForm\u001b[0m\u001b[0;34m,\u001b[0m \u001b[0mblock_restrict\u001b[0m\u001b[0;34m,\u001b[0m \u001b[0mDirichletBC\u001b[0m\u001b[0;34m\u001b[0m\u001b[0;34m\u001b[0m\u001b[0m\n\u001b[0m\u001b[1;32m     20\u001b[0m \u001b[0;32mfrom\u001b[0m \u001b[0mmultiphenics\u001b[0m\u001b[0;34m.\u001b[0m\u001b[0mfunction\u001b[0m \u001b[0;32mimport\u001b[0m \u001b[0massign\u001b[0m\u001b[0;34m,\u001b[0m \u001b[0mblock_assign\u001b[0m\u001b[0;34m,\u001b[0m \u001b[0mBlockElement\u001b[0m\u001b[0;34m,\u001b[0m \u001b[0mBlockFunction\u001b[0m\u001b[0;34m,\u001b[0m \u001b[0mBlockFunctionSpace\u001b[0m\u001b[0;34m,\u001b[0m \u001b[0mblock_split\u001b[0m\u001b[0;34m,\u001b[0m \u001b[0mBlockTestFunction\u001b[0m\u001b[0;34m,\u001b[0m \u001b[0mBlockTrialFunction\u001b[0m\u001b[0;34m,\u001b[0m \u001b[0msplit\u001b[0m\u001b[0;34m,\u001b[0m \u001b[0mTestFunction\u001b[0m\u001b[0;34m,\u001b[0m \u001b[0mTrialFunction\u001b[0m\u001b[0;34m\u001b[0m\u001b[0;34m\u001b[0m\u001b[0m\n\u001b[1;32m     21\u001b[0m \u001b[0;32mfrom\u001b[0m \u001b[0mmultiphenics\u001b[0m\u001b[0;34m.\u001b[0m\u001b[0mio\u001b[0m \u001b[0;32mimport\u001b[0m \u001b[0mFile\u001b[0m\u001b[0;34m,\u001b[0m \u001b[0mplot\u001b[0m\u001b[0;34m,\u001b[0m \u001b[0mXDMFFile\u001b[0m\u001b[0;34m\u001b[0m\u001b[0;34m\u001b[0m\u001b[0m\n",
      "\u001b[0;32m~/miniconda/envs/tf_fenics/lib/python3.8/site-packages/multiphenics-0.2.dev1-py3.8.egg/multiphenics/fem/__init__.py\u001b[0m in \u001b[0;36m<module>\u001b[0;34m\u001b[0m\n\u001b[1;32m     17\u001b[0m \u001b[0;31m#\u001b[0m\u001b[0;34m\u001b[0m\u001b[0;34m\u001b[0m\u001b[0;34m\u001b[0m\u001b[0m\n\u001b[1;32m     18\u001b[0m \u001b[0;34m\u001b[0m\u001b[0m\n\u001b[0;32m---> 19\u001b[0;31m \u001b[0;32mfrom\u001b[0m \u001b[0mmultiphenics\u001b[0m\u001b[0;34m.\u001b[0m\u001b[0mfem\u001b[0m\u001b[0;34m.\u001b[0m\u001b[0mblock_adjoint\u001b[0m \u001b[0;32mimport\u001b[0m \u001b[0mblock_adjoint\u001b[0m\u001b[0;34m\u001b[0m\u001b[0;34m\u001b[0m\u001b[0m\n\u001b[0m\u001b[1;32m     20\u001b[0m \u001b[0;32mfrom\u001b[0m \u001b[0mmultiphenics\u001b[0m\u001b[0;34m.\u001b[0m\u001b[0mfem\u001b[0m\u001b[0;34m.\u001b[0m\u001b[0mblock_assemble\u001b[0m \u001b[0;32mimport\u001b[0m \u001b[0mblock_assemble\u001b[0m\u001b[0;34m\u001b[0m\u001b[0;34m\u001b[0m\u001b[0m\n\u001b[1;32m     21\u001b[0m \u001b[0;32mfrom\u001b[0m \u001b[0mmultiphenics\u001b[0m\u001b[0;34m.\u001b[0m\u001b[0mfem\u001b[0m\u001b[0;34m.\u001b[0m\u001b[0mblock_assembler\u001b[0m \u001b[0;32mimport\u001b[0m \u001b[0mBlockAssembler\u001b[0m\u001b[0;34m\u001b[0m\u001b[0;34m\u001b[0m\u001b[0m\n",
      "\u001b[0;32m~/miniconda/envs/tf_fenics/lib/python3.8/site-packages/multiphenics-0.2.dev1-py3.8.egg/multiphenics/fem/block_adjoint.py\u001b[0m in \u001b[0;36m<module>\u001b[0;34m\u001b[0m\n\u001b[1;32m     20\u001b[0m \u001b[0;32mfrom\u001b[0m \u001b[0mufl\u001b[0m \u001b[0;32mimport\u001b[0m \u001b[0mForm\u001b[0m\u001b[0;34m\u001b[0m\u001b[0;34m\u001b[0m\u001b[0m\n\u001b[1;32m     21\u001b[0m \u001b[0;32mfrom\u001b[0m \u001b[0mdolfin\u001b[0m \u001b[0;32mimport\u001b[0m \u001b[0madjoint\u001b[0m\u001b[0;34m\u001b[0m\u001b[0;34m\u001b[0m\u001b[0m\n\u001b[0;32m---> 22\u001b[0;31m \u001b[0;32mfrom\u001b[0m \u001b[0mmultiphenics\u001b[0m\u001b[0;34m.\u001b[0m\u001b[0mfem\u001b[0m\u001b[0;34m.\u001b[0m\u001b[0mblock_form\u001b[0m \u001b[0;32mimport\u001b[0m \u001b[0m_block_form_preprocessing\u001b[0m\u001b[0;34m\u001b[0m\u001b[0;34m\u001b[0m\u001b[0m\n\u001b[0m\u001b[1;32m     23\u001b[0m \u001b[0;32mfrom\u001b[0m \u001b[0mmultiphenics\u001b[0m\u001b[0;34m.\u001b[0m\u001b[0mfem\u001b[0m\u001b[0;34m.\u001b[0m\u001b[0mblock_form_2\u001b[0m \u001b[0;32mimport\u001b[0m \u001b[0mBlockForm2\u001b[0m\u001b[0;34m\u001b[0m\u001b[0;34m\u001b[0m\u001b[0m\n\u001b[1;32m     24\u001b[0m \u001b[0;32mfrom\u001b[0m \u001b[0mmultiphenics\u001b[0m\u001b[0;34m.\u001b[0m\u001b[0mfem\u001b[0m\u001b[0;34m.\u001b[0m\u001b[0mblock_replace_zero\u001b[0m \u001b[0;32mimport\u001b[0m \u001b[0m_is_zero\u001b[0m\u001b[0;34m\u001b[0m\u001b[0;34m\u001b[0m\u001b[0m\n",
      "\u001b[0;32m~/miniconda/envs/tf_fenics/lib/python3.8/site-packages/multiphenics-0.2.dev1-py3.8.egg/multiphenics/fem/block_form.py\u001b[0m in \u001b[0;36m<module>\u001b[0;34m\u001b[0m\n\u001b[1;32m     20\u001b[0m \u001b[0;32mfrom\u001b[0m \u001b[0mufl\u001b[0m \u001b[0;32mimport\u001b[0m \u001b[0mForm\u001b[0m\u001b[0;34m\u001b[0m\u001b[0;34m\u001b[0m\u001b[0m\n\u001b[1;32m     21\u001b[0m \u001b[0;32mfrom\u001b[0m \u001b[0mmultiphenics\u001b[0m\u001b[0;34m.\u001b[0m\u001b[0mfem\u001b[0m\u001b[0;34m.\u001b[0m\u001b[0mblock_flatten_nested\u001b[0m \u001b[0;32mimport\u001b[0m \u001b[0mblock_flatten_nested\u001b[0m\u001b[0;34m\u001b[0m\u001b[0;34m\u001b[0m\u001b[0m\n\u001b[0;32m---> 22\u001b[0;31m \u001b[0;32mfrom\u001b[0m \u001b[0mmultiphenics\u001b[0m\u001b[0;34m.\u001b[0m\u001b[0mfem\u001b[0m\u001b[0;34m.\u001b[0m\u001b[0mblock_form_1\u001b[0m \u001b[0;32mimport\u001b[0m \u001b[0mBlockForm1\u001b[0m\u001b[0;34m\u001b[0m\u001b[0;34m\u001b[0m\u001b[0m\n\u001b[0m\u001b[1;32m     23\u001b[0m \u001b[0;32mfrom\u001b[0m \u001b[0mmultiphenics\u001b[0m\u001b[0;34m.\u001b[0m\u001b[0mfem\u001b[0m\u001b[0;34m.\u001b[0m\u001b[0mblock_form_2\u001b[0m \u001b[0;32mimport\u001b[0m \u001b[0mBlockForm2\u001b[0m\u001b[0;34m\u001b[0m\u001b[0;34m\u001b[0m\u001b[0m\n\u001b[1;32m     24\u001b[0m \u001b[0;32mfrom\u001b[0m \u001b[0mmultiphenics\u001b[0m\u001b[0;34m.\u001b[0m\u001b[0mfem\u001b[0m\u001b[0;34m.\u001b[0m\u001b[0mblock_replace_zero\u001b[0m \u001b[0;32mimport\u001b[0m \u001b[0m_get_block_form_rank\u001b[0m\u001b[0;34m,\u001b[0m \u001b[0m_is_zero\u001b[0m\u001b[0;34m\u001b[0m\u001b[0;34m\u001b[0m\u001b[0m\n",
      "\u001b[0;32m~/miniconda/envs/tf_fenics/lib/python3.8/site-packages/multiphenics-0.2.dev1-py3.8.egg/multiphenics/fem/block_form_1.py\u001b[0m in \u001b[0;36m<module>\u001b[0;34m\u001b[0m\n\u001b[1;32m     22\u001b[0m \u001b[0;32mfrom\u001b[0m \u001b[0mdolfin\u001b[0m\u001b[0;34m.\u001b[0m\u001b[0mfem\u001b[0m\u001b[0;34m.\u001b[0m\u001b[0massembling\u001b[0m \u001b[0;32mimport\u001b[0m \u001b[0m_create_dolfin_form\u001b[0m\u001b[0;34m\u001b[0m\u001b[0;34m\u001b[0m\u001b[0m\n\u001b[1;32m     23\u001b[0m \u001b[0;32mfrom\u001b[0m \u001b[0mmultiphenics\u001b[0m\u001b[0;34m.\u001b[0m\u001b[0mfem\u001b[0m\u001b[0;34m.\u001b[0m\u001b[0mblock_replace_zero\u001b[0m \u001b[0;32mimport\u001b[0m \u001b[0mblock_replace_zero\u001b[0m\u001b[0;34m,\u001b[0m \u001b[0m_is_zero\u001b[0m\u001b[0;34m\u001b[0m\u001b[0;34m\u001b[0m\u001b[0m\n\u001b[0;32m---> 24\u001b[0;31m \u001b[0;32mfrom\u001b[0m \u001b[0mmultiphenics\u001b[0m\u001b[0;34m.\u001b[0m\u001b[0mpython\u001b[0m \u001b[0;32mimport\u001b[0m \u001b[0mcpp\u001b[0m\u001b[0;34m\u001b[0m\u001b[0;34m\u001b[0m\u001b[0m\n\u001b[0m\u001b[1;32m     25\u001b[0m \u001b[0;34m\u001b[0m\u001b[0m\n\u001b[1;32m     26\u001b[0m \u001b[0mBlockForm1_Base\u001b[0m \u001b[0;34m=\u001b[0m \u001b[0mcpp\u001b[0m\u001b[0;34m.\u001b[0m\u001b[0mfem\u001b[0m\u001b[0;34m.\u001b[0m\u001b[0mBlockForm1\u001b[0m\u001b[0;34m\u001b[0m\u001b[0;34m\u001b[0m\u001b[0m\n",
      "\u001b[0;32m~/miniconda/envs/tf_fenics/lib/python3.8/site-packages/multiphenics-0.2.dev1-py3.8.egg/multiphenics/python/__init__.py\u001b[0m in \u001b[0;36m<module>\u001b[0;34m\u001b[0m\n\u001b[1;32m     21\u001b[0m \u001b[0;34m\u001b[0m\u001b[0m\n\u001b[1;32m     22\u001b[0m \u001b[0;31m# Compile package\u001b[0m\u001b[0;34m\u001b[0m\u001b[0;34m\u001b[0m\u001b[0;34m\u001b[0m\u001b[0m\n\u001b[0;32m---> 23\u001b[0;31m cpp = compile_package(\n\u001b[0m\u001b[1;32m     24\u001b[0m     \u001b[0;34m\"multiphenics\"\u001b[0m\u001b[0;34m,\u001b[0m\u001b[0;34m\u001b[0m\u001b[0;34m\u001b[0m\u001b[0m\n\u001b[1;32m     25\u001b[0m     \u001b[0mos\u001b[0m\u001b[0;34m.\u001b[0m\u001b[0mpath\u001b[0m\u001b[0;34m.\u001b[0m\u001b[0mabspath\u001b[0m\u001b[0;34m(\u001b[0m\u001b[0mos\u001b[0m\u001b[0;34m.\u001b[0m\u001b[0mpath\u001b[0m\u001b[0;34m.\u001b[0m\u001b[0mjoin\u001b[0m\u001b[0;34m(\u001b[0m\u001b[0mos\u001b[0m\u001b[0;34m.\u001b[0m\u001b[0mpath\u001b[0m\u001b[0;34m.\u001b[0m\u001b[0mdirname\u001b[0m\u001b[0;34m(\u001b[0m\u001b[0mos\u001b[0m\u001b[0;34m.\u001b[0m\u001b[0mpath\u001b[0m\u001b[0;34m.\u001b[0m\u001b[0mabspath\u001b[0m\u001b[0;34m(\u001b[0m\u001b[0m__file__\u001b[0m\u001b[0;34m)\u001b[0m\u001b[0;34m)\u001b[0m\u001b[0;34m,\u001b[0m \u001b[0;34m\"../..\"\u001b[0m\u001b[0;34m)\u001b[0m\u001b[0;34m)\u001b[0m\u001b[0;34m,\u001b[0m\u001b[0;34m\u001b[0m\u001b[0;34m\u001b[0m\u001b[0m\n",
      "\u001b[0;32m~/miniconda/envs/tf_fenics/lib/python3.8/site-packages/multiphenics-0.2.dev1-py3.8.egg/multiphenics/python/compile_package.py\u001b[0m in \u001b[0;36mcompile_package\u001b[0;34m(package_name, package_root, *args, **kwargs)\u001b[0m\n\u001b[1;32m     86\u001b[0m \u001b[0;34m\u001b[0m\u001b[0m\n\u001b[1;32m     87\u001b[0m     \u001b[0;31m# Call DOLFIN's compile_cpp_code\u001b[0m\u001b[0;34m\u001b[0m\u001b[0;34m\u001b[0m\u001b[0;34m\u001b[0m\u001b[0m\n\u001b[0;32m---> 88\u001b[0;31m     \u001b[0mcpp\u001b[0m \u001b[0;34m=\u001b[0m \u001b[0mcompile_cpp_code\u001b[0m\u001b[0;34m(\u001b[0m\u001b[0mpackage_code\u001b[0m\u001b[0;34m)\u001b[0m\u001b[0;34m\u001b[0m\u001b[0;34m\u001b[0m\u001b[0m\n\u001b[0m\u001b[1;32m     89\u001b[0m \u001b[0;34m\u001b[0m\u001b[0m\n\u001b[1;32m     90\u001b[0m     \u001b[0;31m# Restore original dijitso configuration\u001b[0m\u001b[0;34m\u001b[0m\u001b[0;34m\u001b[0m\u001b[0;34m\u001b[0m\u001b[0m\n",
      "\u001b[0;32m~/miniconda/envs/tf_fenics/lib/python3.8/site-packages/dolfin/jit/pybind11jit.py\u001b[0m in \u001b[0;36mcompile_cpp_code\u001b[0;34m(cpp_code, **kwargs)\u001b[0m\n\u001b[1;32m     93\u001b[0m     \u001b[0mmodule_name\u001b[0m \u001b[0;34m=\u001b[0m \u001b[0;34m\"dolfin_cpp_module_\"\u001b[0m \u001b[0;34m+\u001b[0m \u001b[0mmodule_hash\u001b[0m\u001b[0;34m\u001b[0m\u001b[0;34m\u001b[0m\u001b[0m\n\u001b[1;32m     94\u001b[0m \u001b[0;34m\u001b[0m\u001b[0m\n\u001b[0;32m---> 95\u001b[0;31m     module, signature = dijitso_jit(cpp_code, module_name, params,\n\u001b[0m\u001b[1;32m     96\u001b[0m                                     generate=jit_generate)\n\u001b[1;32m     97\u001b[0m \u001b[0;34m\u001b[0m\u001b[0m\n",
      "\u001b[0;32m~/miniconda/envs/tf_fenics/lib/python3.8/site-packages/multiphenics-0.2.dev1-py3.8.egg/multiphenics/python/compile_package.py\u001b[0m in \u001b[0;36mdijitso_jit\u001b[0;34m(jitable, name, params, generate, send, receive, wait)\u001b[0m\n\u001b[1;32m    102\u001b[0m         \u001b[0mparams\u001b[0m\u001b[0;34m[\u001b[0m\u001b[0;34m\"build\"\u001b[0m\u001b[0;34m]\u001b[0m\u001b[0;34m[\u001b[0m\u001b[0;34m\"include_dirs\"\u001b[0m\u001b[0;34m]\u001b[0m\u001b[0;34m.\u001b[0m\u001b[0mappend\u001b[0m\u001b[0;34m(\u001b[0m\u001b[0mpetsc4py\u001b[0m\u001b[0;34m.\u001b[0m\u001b[0mget_include\u001b[0m\u001b[0;34m(\u001b[0m\u001b[0;34m)\u001b[0m\u001b[0;34m)\u001b[0m\u001b[0;34m\u001b[0m\u001b[0;34m\u001b[0m\u001b[0m\n\u001b[1;32m    103\u001b[0m         \u001b[0mparams\u001b[0m\u001b[0;34m[\u001b[0m\u001b[0;34m\"build\"\u001b[0m\u001b[0;34m]\u001b[0m\u001b[0;34m[\u001b[0m\u001b[0;34m\"include_dirs\"\u001b[0m\u001b[0;34m]\u001b[0m\u001b[0;34m.\u001b[0m\u001b[0mextend\u001b[0m\u001b[0;34m(\u001b[0m\u001b[0minclude_dirs\u001b[0m\u001b[0;34m)\u001b[0m\u001b[0;34m\u001b[0m\u001b[0;34m\u001b[0m\u001b[0m\n\u001b[0;32m--> 104\u001b[0;31m         \u001b[0;32mreturn\u001b[0m \u001b[0moriginal_dijitso_jit\u001b[0m\u001b[0;34m(\u001b[0m\u001b[0mjitable\u001b[0m\u001b[0;34m,\u001b[0m \u001b[0mname\u001b[0m\u001b[0;34m,\u001b[0m \u001b[0mparams\u001b[0m\u001b[0;34m,\u001b[0m \u001b[0mgenerate\u001b[0m\u001b[0;34m,\u001b[0m \u001b[0msend\u001b[0m\u001b[0;34m,\u001b[0m \u001b[0mreceive\u001b[0m\u001b[0;34m,\u001b[0m \u001b[0mwait\u001b[0m\u001b[0;34m)\u001b[0m\u001b[0;34m\u001b[0m\u001b[0;34m\u001b[0m\u001b[0m\n\u001b[0m\u001b[1;32m    105\u001b[0m     \u001b[0mdolfin\u001b[0m\u001b[0;34m.\u001b[0m\u001b[0mjit\u001b[0m\u001b[0;34m.\u001b[0m\u001b[0mpybind11jit\u001b[0m\u001b[0;34m.\u001b[0m\u001b[0mdijitso_jit\u001b[0m \u001b[0;34m=\u001b[0m \u001b[0mdijitso_jit\u001b[0m\u001b[0;34m\u001b[0m\u001b[0;34m\u001b[0m\u001b[0m\n\u001b[1;32m    106\u001b[0m \u001b[0;34m\u001b[0m\u001b[0m\n",
      "\u001b[0;32m~/miniconda/envs/tf_fenics/lib/python3.8/site-packages/dolfin/jit/jit.py\u001b[0m in \u001b[0;36mmpi_jit\u001b[0;34m(*args, **kwargs)\u001b[0m\n\u001b[1;32m     45\u001b[0m         \u001b[0;31m# Just call JIT compiler when running in serial\u001b[0m\u001b[0;34m\u001b[0m\u001b[0;34m\u001b[0m\u001b[0;34m\u001b[0m\u001b[0m\n\u001b[1;32m     46\u001b[0m         \u001b[0;32mif\u001b[0m \u001b[0mMPI\u001b[0m\u001b[0;34m.\u001b[0m\u001b[0msize\u001b[0m\u001b[0;34m(\u001b[0m\u001b[0mmpi_comm\u001b[0m\u001b[0;34m)\u001b[0m \u001b[0;34m==\u001b[0m \u001b[0;36m1\u001b[0m\u001b[0;34m:\u001b[0m\u001b[0;34m\u001b[0m\u001b[0;34m\u001b[0m\u001b[0m\n\u001b[0;32m---> 47\u001b[0;31m             \u001b[0;32mreturn\u001b[0m \u001b[0mlocal_jit\u001b[0m\u001b[0;34m(\u001b[0m\u001b[0;34m*\u001b[0m\u001b[0margs\u001b[0m\u001b[0;34m,\u001b[0m \u001b[0;34m**\u001b[0m\u001b[0mkwargs\u001b[0m\u001b[0;34m)\u001b[0m\u001b[0;34m\u001b[0m\u001b[0;34m\u001b[0m\u001b[0m\n\u001b[0m\u001b[1;32m     48\u001b[0m \u001b[0;34m\u001b[0m\u001b[0m\n\u001b[1;32m     49\u001b[0m         \u001b[0;31m# Default status (0 == ok, 1 == fail)\u001b[0m\u001b[0;34m\u001b[0m\u001b[0;34m\u001b[0m\u001b[0;34m\u001b[0m\u001b[0m\n",
      "\u001b[0;32m~/miniconda/envs/tf_fenics/lib/python3.8/site-packages/dolfin/jit/jit.py\u001b[0m in \u001b[0;36mdijitso_jit\u001b[0;34m(*args, **kwargs)\u001b[0m\n\u001b[1;32m    101\u001b[0m \u001b[0;34m@\u001b[0m\u001b[0mmpi_jit_decorator\u001b[0m\u001b[0;34m\u001b[0m\u001b[0;34m\u001b[0m\u001b[0m\n\u001b[1;32m    102\u001b[0m \u001b[0;32mdef\u001b[0m \u001b[0mdijitso_jit\u001b[0m\u001b[0;34m(\u001b[0m\u001b[0;34m*\u001b[0m\u001b[0margs\u001b[0m\u001b[0;34m,\u001b[0m \u001b[0;34m**\u001b[0m\u001b[0mkwargs\u001b[0m\u001b[0;34m)\u001b[0m\u001b[0;34m:\u001b[0m\u001b[0;34m\u001b[0m\u001b[0;34m\u001b[0m\u001b[0m\n\u001b[0;32m--> 103\u001b[0;31m     \u001b[0;32mreturn\u001b[0m \u001b[0mdijitso\u001b[0m\u001b[0;34m.\u001b[0m\u001b[0mjit\u001b[0m\u001b[0;34m(\u001b[0m\u001b[0;34m*\u001b[0m\u001b[0margs\u001b[0m\u001b[0;34m,\u001b[0m \u001b[0;34m**\u001b[0m\u001b[0mkwargs\u001b[0m\u001b[0;34m)\u001b[0m\u001b[0;34m\u001b[0m\u001b[0;34m\u001b[0m\u001b[0m\n\u001b[0m\u001b[1;32m    104\u001b[0m \u001b[0;34m\u001b[0m\u001b[0m\n\u001b[1;32m    105\u001b[0m \u001b[0;34m\u001b[0m\u001b[0m\n",
      "\u001b[0;32m~/miniconda/envs/tf_fenics/lib/python3.8/site-packages/dijitso/jit.py\u001b[0m in \u001b[0;36mjit\u001b[0;34m(jitable, name, params, generate, send, receive, wait)\u001b[0m\n\u001b[1;32m    151\u001b[0m     \u001b[0msignature\u001b[0m \u001b[0;34m=\u001b[0m \u001b[0mname\u001b[0m\u001b[0;34m\u001b[0m\u001b[0;34m\u001b[0m\u001b[0m\n\u001b[1;32m    152\u001b[0m     \u001b[0mcache_params\u001b[0m \u001b[0;34m=\u001b[0m \u001b[0mparams\u001b[0m\u001b[0;34m[\u001b[0m\u001b[0;34m\"cache\"\u001b[0m\u001b[0;34m]\u001b[0m\u001b[0;34m\u001b[0m\u001b[0;34m\u001b[0m\u001b[0m\n\u001b[0;32m--> 153\u001b[0;31m     \u001b[0mlib\u001b[0m \u001b[0;34m=\u001b[0m \u001b[0mlookup_lib\u001b[0m\u001b[0;34m(\u001b[0m\u001b[0msignature\u001b[0m\u001b[0;34m,\u001b[0m \u001b[0mcache_params\u001b[0m\u001b[0;34m)\u001b[0m\u001b[0;34m\u001b[0m\u001b[0;34m\u001b[0m\u001b[0m\n\u001b[0m\u001b[1;32m    154\u001b[0m     \u001b[0merr_info\u001b[0m \u001b[0;34m=\u001b[0m \u001b[0;32mNone\u001b[0m\u001b[0;34m\u001b[0m\u001b[0;34m\u001b[0m\u001b[0m\n\u001b[1;32m    155\u001b[0m \u001b[0;34m\u001b[0m\u001b[0m\n",
      "\u001b[0;32m~/miniconda/envs/tf_fenics/lib/python3.8/site-packages/dijitso/cache.py\u001b[0m in \u001b[0;36mlookup_lib\u001b[0;34m(lib_signature, cache_params)\u001b[0m\n\u001b[1;32m    389\u001b[0m     \u001b[0;32mif\u001b[0m \u001b[0mlib\u001b[0m \u001b[0;32mis\u001b[0m \u001b[0;32mNone\u001b[0m\u001b[0;34m:\u001b[0m\u001b[0;34m\u001b[0m\u001b[0;34m\u001b[0m\u001b[0m\n\u001b[1;32m    390\u001b[0m         \u001b[0;31m# Cache miss in memory, try looking on disk\u001b[0m\u001b[0;34m\u001b[0m\u001b[0;34m\u001b[0m\u001b[0;34m\u001b[0m\u001b[0m\n\u001b[0;32m--> 391\u001b[0;31m         \u001b[0mlib\u001b[0m \u001b[0;34m=\u001b[0m \u001b[0mload_library\u001b[0m\u001b[0;34m(\u001b[0m\u001b[0mlib_signature\u001b[0m\u001b[0;34m,\u001b[0m \u001b[0mcache_params\u001b[0m\u001b[0;34m)\u001b[0m\u001b[0;34m\u001b[0m\u001b[0;34m\u001b[0m\u001b[0m\n\u001b[0m\u001b[1;32m    392\u001b[0m     \u001b[0;32melse\u001b[0m\u001b[0;34m:\u001b[0m\u001b[0;34m\u001b[0m\u001b[0;34m\u001b[0m\u001b[0m\n\u001b[1;32m    393\u001b[0m         \u001b[0mdebug\u001b[0m\u001b[0;34m(\u001b[0m\u001b[0;34m\"Fetched %s from memory cache\"\u001b[0m \u001b[0;34m%\u001b[0m \u001b[0;34m(\u001b[0m\u001b[0mlib_signature\u001b[0m\u001b[0;34m,\u001b[0m\u001b[0;34m)\u001b[0m\u001b[0;34m)\u001b[0m\u001b[0;34m\u001b[0m\u001b[0;34m\u001b[0m\u001b[0m\n",
      "\u001b[0;32m~/miniconda/envs/tf_fenics/lib/python3.8/site-packages/dijitso/cache.py\u001b[0m in \u001b[0;36mload_library\u001b[0;34m(signature, cache_params)\u001b[0m\n\u001b[1;32m    361\u001b[0m         \u001b[0msys\u001b[0m\u001b[0;34m.\u001b[0m\u001b[0mpath\u001b[0m\u001b[0;34m.\u001b[0m\u001b[0mappend\u001b[0m\u001b[0;34m(\u001b[0m\u001b[0mos\u001b[0m\u001b[0;34m.\u001b[0m\u001b[0mpath\u001b[0m\u001b[0;34m.\u001b[0m\u001b[0mdirname\u001b[0m\u001b[0;34m(\u001b[0m\u001b[0mlib_filename\u001b[0m\u001b[0;34m)\u001b[0m\u001b[0;34m)\u001b[0m\u001b[0;34m\u001b[0m\u001b[0;34m\u001b[0m\u001b[0m\n\u001b[1;32m    362\u001b[0m         \u001b[0;31m# Will raise an exception if it does not load correctly\u001b[0m\u001b[0;34m\u001b[0m\u001b[0;34m\u001b[0m\u001b[0;34m\u001b[0m\u001b[0m\n\u001b[0;32m--> 363\u001b[0;31m         \u001b[0mlib\u001b[0m \u001b[0;34m=\u001b[0m \u001b[0m__import__\u001b[0m\u001b[0;34m(\u001b[0m\u001b[0msignature\u001b[0m\u001b[0;34m)\u001b[0m\u001b[0;34m\u001b[0m\u001b[0;34m\u001b[0m\u001b[0m\n\u001b[0m\u001b[1;32m    364\u001b[0m         \u001b[0mdebug\u001b[0m\u001b[0;34m(\u001b[0m\u001b[0;34m\"Loaded %s from %s\"\u001b[0m \u001b[0;34m%\u001b[0m \u001b[0;34m(\u001b[0m\u001b[0msignature\u001b[0m\u001b[0;34m,\u001b[0m \u001b[0mlib_filename\u001b[0m\u001b[0;34m)\u001b[0m\u001b[0;34m)\u001b[0m\u001b[0;34m\u001b[0m\u001b[0;34m\u001b[0m\u001b[0m\n\u001b[1;32m    365\u001b[0m     \u001b[0;32melse\u001b[0m\u001b[0;34m:\u001b[0m\u001b[0;34m\u001b[0m\u001b[0;34m\u001b[0m\u001b[0m\n",
      "\u001b[0;31mImportError\u001b[0m: /home/felipefr/miniconda/envs/ddfenics_tutorial/lib/libpetsc.so.3.17: undefined symbol: hypre_ParCSRMatrixScale"
     ]
    }
   ],
   "source": [
    "import sys, os\n",
    "import numpy as np\n",
    "from dolfin import *\n",
    "from timeit import default_timer as timer\n",
    "import matplotlib.pyplot as plt\n",
    "\n",
    "from deepBND.__init__ import *\n",
    "import deepBND.creation_model.RB.RB_utils as rbut\n",
    "import deepBND.core.multiscale.misc as mtsm\n",
    "\n",
    "from fetricks.fenics.mesh.mesh import Mesh \n",
    "import fetricks.data_manipulation.wrapper_h5py as myhd\n",
    "\n",
    "dotProduct = lambda u,v, dx_ref: inner(u,v)*dx_ref"
   ]
  },
  {
   "cell_type": "code",
   "execution_count": null,
   "id": "7285392b-9bc5-4f5c-b1e5-68f1b5f70178",
   "metadata": {},
   "outputs": [],
   "source": [
    "folder = rootDataPath + \"/review2_smaller/dataset/\"\n",
    "folder_mesh = rootDataPath + \"/review2_smaller/dataset/\"\n",
    "\n",
    "suffix = ''\n",
    "nameSnaps = folder + 'snapshots%s.hd5'%suffix\n",
    "nameMeshRefBnd = folder_mesh + 'boundaryMesh.xdmf'\n",
    "nameWbasis = folder + 'Wbasis.hd5'\n",
    "nameYlist = folder + 'Y%s.hd5'%suffix\n",
    "nameXYlist = folder + 'XY%s.hd5'%suffix\n",
    "nameParamRVEdataset = folder + 'paramRVEdataset%s.hd5'%suffix\n",
    "\n",
    "Mref = Mesh(nameMeshRefBnd)\n",
    "Vref = VectorFunctionSpace(Mref,\"CG\", 2)\n",
    "\n",
    "dxRef = Measure('dx', Mref) \n",
    "dsRef = Measure('ds', Mref) \n",
    "Nh = Vref.dim()\n",
    "print(Nh)\n",
    "\n",
    "Nmax = 2000\n",
    "\n",
    "op = 4\n",
    "\n",
    "# if(op==0):\n",
    "#    translateSolution(nameSnaps, Vref)\n",
    "#elif(op==1):\n",
    "#    computingBasis(nameSnaps, nameWbasis, Nmax, Nh, Vref, dsRef)\n",
    "#elif(op==2):\n",
    "#    extractAlpha(nameSnaps, nameWbasis, Nmax, nameYlist, Vref, dsRef)\n",
    "#elif(op==3):\n",
    "#    createXY(nameParamRVEdataset, nameYlist, nameXYlist, id_feature = [0,1])  "
   ]
  },
  {
   "cell_type": "code",
   "execution_count": null,
   "id": "a1258af6-7229-4095-84aa-17e73ed4e7e2",
   "metadata": {},
   "outputs": [],
   "source": [
    "# def translateSolution(nameSnaps, Vref):\n",
    "for load_flag in ['A', 'S']:\n",
    "    labels = ['solutions_%s'%load_flag,'a_%s'%load_flag,'B_%s'%load_flag]\n",
    "    Isol, fIsol = myhd.loadhd5_openFile(nameSnaps,labels, mode = 'a')\n",
    "    Isol_full , Isol_a, Isol_B = Isol # a = -avg(disp), B = - avg(strain) \n",
    "    Isol_trans = Isol_full[:,:]\n",
    "    usol = Function(Vref)\n",
    "    ns = len(Isol_trans)\n",
    "    for i in range(ns):\n",
    "        print('translating ', i)\n",
    "        usol.vector().set_local(Isol_full[i,:])\n",
    "        Ttrans = mtsm.affineTransformationExpression(Isol_a[i,:], np.zeros((2,2)), Mref) # B = 0\n",
    "        Tfluc = mtsm.affineTransformationExpression(Isol_a[i,:], Isol_B[i,:,:], Mref) # B = 0\n",
    "        Isol_fluc[i,:] = Isol_fluc[i,:] + interpolate(Tfluc,Vref).vector().get_local()[:] \n",
    "        Isol_trans[i,:] = Isol_trans[i,:] + interpolate(Ttrans,Vref).vector().get_local()[:] \n",
    "\n",
    "    myhd.addDataset(fIsol,Isol_fluc, 'solutions_fluctuations_%s'%load_flag)\n",
    "    myhd.addDataset(fIsol,Isol_trans, 'solutions_translation_%s'%load_flag)\n",
    "    fIsol.close()"
   ]
  },
  {
   "cell_type": "code",
   "execution_count": null,
   "id": "295441ee-13c9-41fb-8b3f-fdffdf39bdff",
   "metadata": {},
   "outputs": [],
   "source": [
    "# def computingBasis(nameSnaps, nameWbasis, Nmax, Nh, Vref, dsRef):\n",
    "os.system('rm ' + nameWbasis)\n",
    "Wbasis_fields, f = myhd.zeros_openFile(nameWbasis, [(Nmax,Nh),(Nmax,Nh),(Nmax,),(Nmax,),(Nh,Nh)], \n",
    "                                                   ['Wbasis_A', 'Wbasis_S','sig_A', 'sig_S','massMat'])\n",
    "Wbasis_A , Wbasis_S, sig_A, sig_S, Mmat = Wbasis_fields\n",
    "for load_flag, Wbasis, sig in zip(['A', 'S'],[Wbasis_A , Wbasis_S], [sig_A,sig_S]):\n",
    "    Isol = myhd.loadhd5(nameSnaps,'solutions_fluctuations_%s'%load_flag)\n",
    "    sig[:] = rbut.computingBasis_svd(Wbasis, Mmat, Isol,Nmax,Vref, dsRef, dotProduct)[0][:Nmax] # Mmat equal to both\n",
    "\n",
    "f.close()"
   ]
  },
  {
   "cell_type": "code",
   "execution_count": null,
   "id": "b19d24e5-c21d-440e-85d0-8c53e051a61a",
   "metadata": {},
   "outputs": [],
   "source": [
    "# def extractAlpha(nameSnaps, nameWbasis, Nmax, nameYlist, Vref, dsRef):\n",
    "os.system('rm ' + nameYlist)\n",
    "for load_flag in ['A', 'S']:\n",
    "    Wbasis_M = myhd.loadhd5(nameWbasis, ['Wbasis_%s'%load_flag,'massMat'])\n",
    "    Isol = myhd.loadhd5(nameSnaps,'solutions_fluctuations_%s'%load_flag)\n",
    "    ns = len(Isol)\n",
    "    Ylist = rbut.getAlphas_fast(Wbasis_M,Isol, ns, Nmax, dotProduct, Vref, dsRef)\n",
    "    if os.path.exists(nameYlist):\n",
    "        fIsol = myhd.loadhd5_openFile(nameYlist, [], mode = 'a')[1]\n",
    "        myhd.addDataset(fIsol,Ylist,'Ylist_%s'%load_flag)\n",
    "        fIsol.close()\n",
    "    else:\n",
    "        myhd.savehd5(nameYlist,Ylist,'Ylist_%s'%load_flag, mode='w') \n"
   ]
  },
  {
   "cell_type": "code",
   "execution_count": null,
   "id": "8da994bf-c5ad-4eb4-968c-1868bf501df5",
   "metadata": {},
   "outputs": [],
   "source": [
    "# def createXY(nameParamRVEdataset, nameYlist, nameXYlist, id_feature = 2):\n",
    "os.system('rm ' + nameXYlist)\n",
    "Y = myhd.loadhd5(nameYlist,['Ylist_%s'%s for s in ['A','S']])\n",
    "X = myhd.loadhd5(nameParamRVEdataset,'param')[:,:, id_feature]\n",
    "X = X.reshape((X.shape[0],-1))\n",
    "myhd.savehd5(nameXYlist, Y + [X], ['Y_%s'%s for s in ['A','S']] + ['X'], mode='w')\n",
    "os.system('rm ' + nameYlist)"
   ]
  },
  {
   "cell_type": "code",
   "execution_count": null,
   "id": "6a6814b1-ae10-4479-90e4-d13fbbb88d10",
   "metadata": {},
   "outputs": [],
   "source": [
    "# Splitting elif(op==4): # train,  validation, test splitting\n",
    "    ns = len(myhd.loadhd5(nameParamRVEdataset, \"id\"))\n",
    "    seed = 2\n",
    "    np.random.seed(seed)\n",
    "    shuffled_ids = np.arange(0,ns) \n",
    "    np.random.shuffle(shuffled_ids)\n",
    "\n",
    "    r_val = 0.05\n",
    "    r_test = 0.0001\n",
    "\n",
    "    id_val = np.arange(0, int(np.floor(r_val*ns))).astype('int')\n",
    "    id_test = np.arange(id_val[-1] + 1, int(np.floor((r_val+r_test)*ns)))\n",
    "    id_train = np.arange(id_test[-1], ns)\n",
    "\n",
    "    id_val = shuffled_ids[id_val]\n",
    "    id_test = shuffled_ids[id_test]\n",
    "    id_train = shuffled_ids[id_train]\n",
    "\n",
    "    labels = ['X', 'Y_A', 'Y_S']\n",
    "    X, Y_A, Y_S = myhd.loadhd5(nameXYlist, labels )  \n",
    "\n",
    "    myhd.savehd5(nameXYlist.split('.')[0] + \"_val.hd5\" , [X[id_val], Y_A[id_val], Y_S[id_val]], labels , \"w-\")\n",
    "    myhd.savehd5(nameXYlist.split('.')[0] + \"_test.hd5\", [X[id_test], Y_A[id_test], Y_S[id_test]], labels , \"w-\")\n",
    "    myhd.savehd5(nameXYlist.split('.')[0] + \"_train.hd5\", [X[id_train], Y_A[id_train], Y_S[id_train]], labels , \"w-\")\n"
   ]
  }
 ],
 "metadata": {
  "kernelspec": {
   "display_name": "tf_fenics",
   "language": "python",
   "name": "tf_fenics"
  },
  "language_info": {
   "codemirror_mode": {
    "name": "ipython",
    "version": 3
   },
   "file_extension": ".py",
   "mimetype": "text/x-python",
   "name": "python",
   "nbconvert_exporter": "python",
   "pygments_lexer": "ipython3",
   "version": "3.8.12"
  }
 },
 "nbformat": 4,
 "nbformat_minor": 5
}
